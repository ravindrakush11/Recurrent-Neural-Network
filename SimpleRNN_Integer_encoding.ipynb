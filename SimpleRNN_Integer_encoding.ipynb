{
  "nbformat": 4,
  "nbformat_minor": 0,
  "metadata": {
    "colab": {
      "provenance": [],
      "authorship_tag": "ABX9TyNlGR6LfdMN1uKqYKd1xCYC",
      "include_colab_link": true
    },
    "kernelspec": {
      "name": "python3",
      "display_name": "Python 3"
    },
    "language_info": {
      "name": "python"
    }
  },
  "cells": [
    {
      "cell_type": "markdown",
      "metadata": {
        "id": "view-in-github",
        "colab_type": "text"
      },
      "source": [
        "<a href=\"https://colab.research.google.com/github/ravindrakush11/Recurrent-Neural-Network/blob/main/SimpleRNN_Integer_encoding.ipynb\" target=\"_parent\"><img src=\"https://colab.research.google.com/assets/colab-badge.svg\" alt=\"Open In Colab\"/></a>"
      ]
    },
    {
      "cell_type": "code",
      "execution_count": 46,
      "metadata": {
        "id": "x_WztMze3d43"
      },
      "outputs": [],
      "source": [
        "import numpy as np\n",
        "\n",
        "docs = [\n",
        "    'rohit rohit',\n",
        "    'biden biden',\n",
        "    'bharat bharat',\n",
        "    'jai hind',\n",
        "    'hello world',\n",
        "    'spiderman', 'black panther',\n",
        "    'superman', 'wonder woman',\n",
        "    'keep going', 'stay positive',\n",
        "    'optimistic', 'pessimistic',\n",
        "    'good vibes', 'bad energy',\n",
        "    'success', 'failure',\n",
        "    'challenges', 'opportunities',\n",
        "    'victory', 'defeat',\n",
        "    'vande mataram',\n",
        "    'virat virat',\n",
        "    'messi messi',\n",
        "    'ronaldo ronaldo',\n",
        "    'india will rise',\n",
        "    'peace and love',\n",
        "    'stronger together',\n",
        "    'jai jawan jai kisan',\n",
        "    'may the force be with you',\n",
        "    'wakanda forever',\n",
        "    'unity in diversity',\n",
        "    'keep pushing',\n",
        "    'never give up',\n",
        "    'rise and shine',\n",
        "    'chak de india',\n",
        "    'unity for india'\n",
        "]"
      ]
    },
    {
      "cell_type": "code",
      "source": [
        "!pip install tensorflow -q"
      ],
      "metadata": {
        "collapsed": true,
        "id": "C1H4LPJ04pbL"
      },
      "execution_count": 47,
      "outputs": []
    },
    {
      "cell_type": "code",
      "source": [
        "from tensorflow.keras.preprocessing.text import Tokenizer\n",
        "\n",
        "tokenizer = Tokenizer(oov_token='<nothing>')"
      ],
      "metadata": {
        "id": "-iQE4a5n4HiS"
      },
      "execution_count": 48,
      "outputs": []
    },
    {
      "cell_type": "code",
      "source": [
        "tokenizer.fit_on_texts(docs)"
      ],
      "metadata": {
        "id": "ZhuFQcmV5GVz"
      },
      "execution_count": 49,
      "outputs": []
    },
    {
      "cell_type": "code",
      "source": [
        "tokenizer.word_index"
      ],
      "metadata": {
        "colab": {
          "base_uri": "https://localhost:8080/"
        },
        "id": "Ctrw3DjS5KWd",
        "outputId": "56ca7447-706e-49e5-bd84-2ca57179a29f"
      },
      "execution_count": 50,
      "outputs": [
        {
          "output_type": "execute_result",
          "data": {
            "text/plain": [
              "{'<nothing>': 1,\n",
              " 'jai': 2,\n",
              " 'india': 3,\n",
              " 'rohit': 4,\n",
              " 'biden': 5,\n",
              " 'bharat': 6,\n",
              " 'keep': 7,\n",
              " 'virat': 8,\n",
              " 'messi': 9,\n",
              " 'ronaldo': 10,\n",
              " 'rise': 11,\n",
              " 'and': 12,\n",
              " 'unity': 13,\n",
              " 'hind': 14,\n",
              " 'hello': 15,\n",
              " 'world': 16,\n",
              " 'spiderman': 17,\n",
              " 'black': 18,\n",
              " 'panther': 19,\n",
              " 'superman': 20,\n",
              " 'wonder': 21,\n",
              " 'woman': 22,\n",
              " 'going': 23,\n",
              " 'stay': 24,\n",
              " 'positive': 25,\n",
              " 'optimistic': 26,\n",
              " 'pessimistic': 27,\n",
              " 'good': 28,\n",
              " 'vibes': 29,\n",
              " 'bad': 30,\n",
              " 'energy': 31,\n",
              " 'success': 32,\n",
              " 'failure': 33,\n",
              " 'challenges': 34,\n",
              " 'opportunities': 35,\n",
              " 'victory': 36,\n",
              " 'defeat': 37,\n",
              " 'vande': 38,\n",
              " 'mataram': 39,\n",
              " 'will': 40,\n",
              " 'peace': 41,\n",
              " 'love': 42,\n",
              " 'stronger': 43,\n",
              " 'together': 44,\n",
              " 'jawan': 45,\n",
              " 'kisan': 46,\n",
              " 'may': 47,\n",
              " 'the': 48,\n",
              " 'force': 49,\n",
              " 'be': 50,\n",
              " 'with': 51,\n",
              " 'you': 52,\n",
              " 'wakanda': 53,\n",
              " 'forever': 54,\n",
              " 'in': 55,\n",
              " 'diversity': 56,\n",
              " 'pushing': 57,\n",
              " 'never': 58,\n",
              " 'give': 59,\n",
              " 'up': 60,\n",
              " 'shine': 61,\n",
              " 'chak': 62,\n",
              " 'de': 63,\n",
              " 'for': 64}"
            ]
          },
          "metadata": {},
          "execution_count": 50
        }
      ]
    },
    {
      "cell_type": "code",
      "source": [
        "tokenizer.word_counts"
      ],
      "metadata": {
        "colab": {
          "base_uri": "https://localhost:8080/"
        },
        "id": "E1vn2BR85R1Y",
        "outputId": "92f4f45c-7e60-49d8-a203-efaaffa7183e"
      },
      "execution_count": 51,
      "outputs": [
        {
          "output_type": "execute_result",
          "data": {
            "text/plain": [
              "OrderedDict([('rohit', 2),\n",
              "             ('biden', 2),\n",
              "             ('bharat', 2),\n",
              "             ('jai', 3),\n",
              "             ('hind', 1),\n",
              "             ('hello', 1),\n",
              "             ('world', 1),\n",
              "             ('spiderman', 1),\n",
              "             ('black', 1),\n",
              "             ('panther', 1),\n",
              "             ('superman', 1),\n",
              "             ('wonder', 1),\n",
              "             ('woman', 1),\n",
              "             ('keep', 2),\n",
              "             ('going', 1),\n",
              "             ('stay', 1),\n",
              "             ('positive', 1),\n",
              "             ('optimistic', 1),\n",
              "             ('pessimistic', 1),\n",
              "             ('good', 1),\n",
              "             ('vibes', 1),\n",
              "             ('bad', 1),\n",
              "             ('energy', 1),\n",
              "             ('success', 1),\n",
              "             ('failure', 1),\n",
              "             ('challenges', 1),\n",
              "             ('opportunities', 1),\n",
              "             ('victory', 1),\n",
              "             ('defeat', 1),\n",
              "             ('vande', 1),\n",
              "             ('mataram', 1),\n",
              "             ('virat', 2),\n",
              "             ('messi', 2),\n",
              "             ('ronaldo', 2),\n",
              "             ('india', 3),\n",
              "             ('will', 1),\n",
              "             ('rise', 2),\n",
              "             ('peace', 1),\n",
              "             ('and', 2),\n",
              "             ('love', 1),\n",
              "             ('stronger', 1),\n",
              "             ('together', 1),\n",
              "             ('jawan', 1),\n",
              "             ('kisan', 1),\n",
              "             ('may', 1),\n",
              "             ('the', 1),\n",
              "             ('force', 1),\n",
              "             ('be', 1),\n",
              "             ('with', 1),\n",
              "             ('you', 1),\n",
              "             ('wakanda', 1),\n",
              "             ('forever', 1),\n",
              "             ('unity', 2),\n",
              "             ('in', 1),\n",
              "             ('diversity', 1),\n",
              "             ('pushing', 1),\n",
              "             ('never', 1),\n",
              "             ('give', 1),\n",
              "             ('up', 1),\n",
              "             ('shine', 1),\n",
              "             ('chak', 1),\n",
              "             ('de', 1),\n",
              "             ('for', 1)])"
            ]
          },
          "metadata": {},
          "execution_count": 51
        }
      ]
    },
    {
      "cell_type": "code",
      "source": [
        "tokenizer.document_count"
      ],
      "metadata": {
        "colab": {
          "base_uri": "https://localhost:8080/"
        },
        "id": "YTfX-jzB5Y0F",
        "outputId": "2138b97f-ea42-4353-cb0c-d96d7bf0adc4"
      },
      "execution_count": 52,
      "outputs": [
        {
          "output_type": "execute_result",
          "data": {
            "text/plain": [
              "37"
            ]
          },
          "metadata": {},
          "execution_count": 52
        }
      ]
    },
    {
      "cell_type": "code",
      "source": [
        "sequences = tokenizer.texts_to_sequences(docs)\n",
        "sequences"
      ],
      "metadata": {
        "colab": {
          "base_uri": "https://localhost:8080/"
        },
        "id": "KLa9iKUN5cCn",
        "outputId": "4b018d1d-5a1b-4b1e-8100-3c6e43dabf6f"
      },
      "execution_count": 53,
      "outputs": [
        {
          "output_type": "execute_result",
          "data": {
            "text/plain": [
              "[[4, 4],\n",
              " [5, 5],\n",
              " [6, 6],\n",
              " [2, 14],\n",
              " [15, 16],\n",
              " [17],\n",
              " [18, 19],\n",
              " [20],\n",
              " [21, 22],\n",
              " [7, 23],\n",
              " [24, 25],\n",
              " [26],\n",
              " [27],\n",
              " [28, 29],\n",
              " [30, 31],\n",
              " [32],\n",
              " [33],\n",
              " [34],\n",
              " [35],\n",
              " [36],\n",
              " [37],\n",
              " [38, 39],\n",
              " [8, 8],\n",
              " [9, 9],\n",
              " [10, 10],\n",
              " [3, 40, 11],\n",
              " [41, 12, 42],\n",
              " [43, 44],\n",
              " [2, 45, 2, 46],\n",
              " [47, 48, 49, 50, 51, 52],\n",
              " [53, 54],\n",
              " [13, 55, 56],\n",
              " [7, 57],\n",
              " [58, 59, 60],\n",
              " [11, 12, 61],\n",
              " [62, 63, 3],\n",
              " [13, 64, 3]]"
            ]
          },
          "metadata": {},
          "execution_count": 53
        }
      ]
    },
    {
      "cell_type": "code",
      "source": [
        "from keras.utils import pad_sequences\n",
        "sequences = pad_sequences(sequences, padding='post')\n",
        "sequences"
      ],
      "metadata": {
        "colab": {
          "base_uri": "https://localhost:8080/"
        },
        "id": "jy4bS3X95mPv",
        "outputId": "d411fd2f-3941-41dc-c9fe-0915a7dd8dcf"
      },
      "execution_count": 54,
      "outputs": [
        {
          "output_type": "execute_result",
          "data": {
            "text/plain": [
              "array([[ 4,  4,  0,  0,  0,  0],\n",
              "       [ 5,  5,  0,  0,  0,  0],\n",
              "       [ 6,  6,  0,  0,  0,  0],\n",
              "       [ 2, 14,  0,  0,  0,  0],\n",
              "       [15, 16,  0,  0,  0,  0],\n",
              "       [17,  0,  0,  0,  0,  0],\n",
              "       [18, 19,  0,  0,  0,  0],\n",
              "       [20,  0,  0,  0,  0,  0],\n",
              "       [21, 22,  0,  0,  0,  0],\n",
              "       [ 7, 23,  0,  0,  0,  0],\n",
              "       [24, 25,  0,  0,  0,  0],\n",
              "       [26,  0,  0,  0,  0,  0],\n",
              "       [27,  0,  0,  0,  0,  0],\n",
              "       [28, 29,  0,  0,  0,  0],\n",
              "       [30, 31,  0,  0,  0,  0],\n",
              "       [32,  0,  0,  0,  0,  0],\n",
              "       [33,  0,  0,  0,  0,  0],\n",
              "       [34,  0,  0,  0,  0,  0],\n",
              "       [35,  0,  0,  0,  0,  0],\n",
              "       [36,  0,  0,  0,  0,  0],\n",
              "       [37,  0,  0,  0,  0,  0],\n",
              "       [38, 39,  0,  0,  0,  0],\n",
              "       [ 8,  8,  0,  0,  0,  0],\n",
              "       [ 9,  9,  0,  0,  0,  0],\n",
              "       [10, 10,  0,  0,  0,  0],\n",
              "       [ 3, 40, 11,  0,  0,  0],\n",
              "       [41, 12, 42,  0,  0,  0],\n",
              "       [43, 44,  0,  0,  0,  0],\n",
              "       [ 2, 45,  2, 46,  0,  0],\n",
              "       [47, 48, 49, 50, 51, 52],\n",
              "       [53, 54,  0,  0,  0,  0],\n",
              "       [13, 55, 56,  0,  0,  0],\n",
              "       [ 7, 57,  0,  0,  0,  0],\n",
              "       [58, 59, 60,  0,  0,  0],\n",
              "       [11, 12, 61,  0,  0,  0],\n",
              "       [62, 63,  3,  0,  0,  0],\n",
              "       [13, 64,  3,  0,  0,  0]], dtype=int32)"
            ]
          },
          "metadata": {},
          "execution_count": 54
        }
      ]
    },
    {
      "cell_type": "code",
      "source": [
        "from keras.datasets import imdb\n",
        "from keras import Sequential\n",
        "from keras.layers import Dense, SimpleRNN, Embedding, Flatten"
      ],
      "metadata": {
        "id": "EXUcKOqC5rx5"
      },
      "execution_count": 55,
      "outputs": []
    },
    {
      "cell_type": "code",
      "source": [
        "(X_train, y_train), (X_test, y_test) = imdb.load_data()"
      ],
      "metadata": {
        "id": "bWFUBJiQ6IbW"
      },
      "execution_count": 56,
      "outputs": []
    },
    {
      "cell_type": "code",
      "source": [
        "X_train[2]"
      ],
      "metadata": {
        "colab": {
          "base_uri": "https://localhost:8080/"
        },
        "id": "ao0wX3Bo6T9W",
        "outputId": "2d709f42-9932-4ea2-cecb-98b203ae1000"
      },
      "execution_count": 58,
      "outputs": [
        {
          "output_type": "execute_result",
          "data": {
            "text/plain": [
              "[1,\n",
              " 14,\n",
              " 47,\n",
              " 8,\n",
              " 30,\n",
              " 31,\n",
              " 7,\n",
              " 4,\n",
              " 249,\n",
              " 108,\n",
              " 7,\n",
              " 4,\n",
              " 5974,\n",
              " 54,\n",
              " 61,\n",
              " 369,\n",
              " 13,\n",
              " 71,\n",
              " 149,\n",
              " 14,\n",
              " 22,\n",
              " 112,\n",
              " 4,\n",
              " 2401,\n",
              " 311,\n",
              " 12,\n",
              " 16,\n",
              " 3711,\n",
              " 33,\n",
              " 75,\n",
              " 43,\n",
              " 1829,\n",
              " 296,\n",
              " 4,\n",
              " 86,\n",
              " 320,\n",
              " 35,\n",
              " 534,\n",
              " 19,\n",
              " 263,\n",
              " 4821,\n",
              " 1301,\n",
              " 4,\n",
              " 1873,\n",
              " 33,\n",
              " 89,\n",
              " 78,\n",
              " 12,\n",
              " 66,\n",
              " 16,\n",
              " 4,\n",
              " 360,\n",
              " 7,\n",
              " 4,\n",
              " 58,\n",
              " 316,\n",
              " 334,\n",
              " 11,\n",
              " 4,\n",
              " 1716,\n",
              " 43,\n",
              " 645,\n",
              " 662,\n",
              " 8,\n",
              " 257,\n",
              " 85,\n",
              " 1200,\n",
              " 42,\n",
              " 1228,\n",
              " 2578,\n",
              " 83,\n",
              " 68,\n",
              " 3912,\n",
              " 15,\n",
              " 36,\n",
              " 165,\n",
              " 1539,\n",
              " 278,\n",
              " 36,\n",
              " 69,\n",
              " 44076,\n",
              " 780,\n",
              " 8,\n",
              " 106,\n",
              " 14,\n",
              " 6905,\n",
              " 1338,\n",
              " 18,\n",
              " 6,\n",
              " 22,\n",
              " 12,\n",
              " 215,\n",
              " 28,\n",
              " 610,\n",
              " 40,\n",
              " 6,\n",
              " 87,\n",
              " 326,\n",
              " 23,\n",
              " 2300,\n",
              " 21,\n",
              " 23,\n",
              " 22,\n",
              " 12,\n",
              " 272,\n",
              " 40,\n",
              " 57,\n",
              " 31,\n",
              " 11,\n",
              " 4,\n",
              " 22,\n",
              " 47,\n",
              " 6,\n",
              " 2307,\n",
              " 51,\n",
              " 9,\n",
              " 170,\n",
              " 23,\n",
              " 595,\n",
              " 116,\n",
              " 595,\n",
              " 1352,\n",
              " 13,\n",
              " 191,\n",
              " 79,\n",
              " 638,\n",
              " 89,\n",
              " 51428,\n",
              " 14,\n",
              " 9,\n",
              " 8,\n",
              " 106,\n",
              " 607,\n",
              " 624,\n",
              " 35,\n",
              " 534,\n",
              " 6,\n",
              " 227,\n",
              " 7,\n",
              " 129,\n",
              " 113]"
            ]
          },
          "metadata": {},
          "execution_count": 58
        }
      ]
    },
    {
      "cell_type": "code",
      "source": [
        "len(X_train[5])"
      ],
      "metadata": {
        "colab": {
          "base_uri": "https://localhost:8080/"
        },
        "id": "0yYsuV6k6fDD",
        "outputId": "1b304d58-a013-4382-9cfb-e3f7a3743eb0"
      },
      "execution_count": 59,
      "outputs": [
        {
          "output_type": "execute_result",
          "data": {
            "text/plain": [
              "43"
            ]
          },
          "metadata": {},
          "execution_count": 59
        }
      ]
    },
    {
      "cell_type": "code",
      "source": [
        "X_train = pad_sequences(X_train, padding='post',maxlen=50 )\n",
        "X_test = pad_sequences(X_test, padding='post',maxlen=50) #"
      ],
      "metadata": {
        "id": "EQo2GyO46nV_"
      },
      "execution_count": 64,
      "outputs": []
    },
    {
      "cell_type": "code",
      "source": [
        "X_train[0]"
      ],
      "metadata": {
        "colab": {
          "base_uri": "https://localhost:8080/"
        },
        "id": "M2aKBWsT61W8",
        "outputId": "8a546006-6917-41a4-e043-f37739a19420"
      },
      "execution_count": 65,
      "outputs": [
        {
          "output_type": "execute_result",
          "data": {
            "text/plain": [
              "array([0, 0, 0, 0, 0, 0, 0, 0, 0, 0, 0, 0, 0, 0, 0, 0, 0, 0, 0, 0, 0, 0,\n",
              "       0, 0, 0, 0, 0, 0, 0, 0, 0, 0, 0, 0, 0, 0, 0, 0, 0, 0, 0, 0, 0, 0,\n",
              "       0, 0, 0, 0, 0, 0], dtype=int32)"
            ]
          },
          "metadata": {},
          "execution_count": 65
        }
      ]
    },
    {
      "cell_type": "code",
      "source": [
        "model = Sequential()\n",
        "\n",
        "model.add(SimpleRNN(32, input_shape=(50,1), return_sequences=False))\n",
        "model.add(Dense(1, activation='sigmoid'))\n",
        "\n",
        "model.summary()"
      ],
      "metadata": {
        "colab": {
          "base_uri": "https://localhost:8080/",
          "height": 193
        },
        "id": "F95wsZYV7D8e",
        "outputId": "d77e815e-003c-4d4e-cd7d-1a749296f2a8"
      },
      "execution_count": 66,
      "outputs": [
        {
          "output_type": "display_data",
          "data": {
            "text/plain": [
              "\u001b[1mModel: \"sequential_2\"\u001b[0m\n"
            ],
            "text/html": [
              "<pre style=\"white-space:pre;overflow-x:auto;line-height:normal;font-family:Menlo,'DejaVu Sans Mono',consolas,'Courier New',monospace\"><span style=\"font-weight: bold\">Model: \"sequential_2\"</span>\n",
              "</pre>\n"
            ]
          },
          "metadata": {}
        },
        {
          "output_type": "display_data",
          "data": {
            "text/plain": [
              "┏━━━━━━━━━━━━━━━━━━━━━━━━━━━━━━━━━━━━━━┳━━━━━━━━━━━━━━━━━━━━━━━━━━━━━┳━━━━━━━━━━━━━━━━━┓\n",
              "┃\u001b[1m \u001b[0m\u001b[1mLayer (type)                        \u001b[0m\u001b[1m \u001b[0m┃\u001b[1m \u001b[0m\u001b[1mOutput Shape               \u001b[0m\u001b[1m \u001b[0m┃\u001b[1m \u001b[0m\u001b[1m        Param #\u001b[0m\u001b[1m \u001b[0m┃\n",
              "┡━━━━━━━━━━━━━━━━━━━━━━━━━━━━━━━━━━━━━━╇━━━━━━━━━━━━━━━━━━━━━━━━━━━━━╇━━━━━━━━━━━━━━━━━┩\n",
              "│ simple_rnn_2 (\u001b[38;5;33mSimpleRNN\u001b[0m)             │ (\u001b[38;5;45mNone\u001b[0m, \u001b[38;5;34m32\u001b[0m)                  │           \u001b[38;5;34m1,088\u001b[0m │\n",
              "├──────────────────────────────────────┼─────────────────────────────┼─────────────────┤\n",
              "│ dense_2 (\u001b[38;5;33mDense\u001b[0m)                      │ (\u001b[38;5;45mNone\u001b[0m, \u001b[38;5;34m1\u001b[0m)                   │              \u001b[38;5;34m33\u001b[0m │\n",
              "└──────────────────────────────────────┴─────────────────────────────┴─────────────────┘\n"
            ],
            "text/html": [
              "<pre style=\"white-space:pre;overflow-x:auto;line-height:normal;font-family:Menlo,'DejaVu Sans Mono',consolas,'Courier New',monospace\">┏━━━━━━━━━━━━━━━━━━━━━━━━━━━━━━━━━━━━━━┳━━━━━━━━━━━━━━━━━━━━━━━━━━━━━┳━━━━━━━━━━━━━━━━━┓\n",
              "┃<span style=\"font-weight: bold\"> Layer (type)                         </span>┃<span style=\"font-weight: bold\"> Output Shape                </span>┃<span style=\"font-weight: bold\">         Param # </span>┃\n",
              "┡━━━━━━━━━━━━━━━━━━━━━━━━━━━━━━━━━━━━━━╇━━━━━━━━━━━━━━━━━━━━━━━━━━━━━╇━━━━━━━━━━━━━━━━━┩\n",
              "│ simple_rnn_2 (<span style=\"color: #0087ff; text-decoration-color: #0087ff\">SimpleRNN</span>)             │ (<span style=\"color: #00d7ff; text-decoration-color: #00d7ff\">None</span>, <span style=\"color: #00af00; text-decoration-color: #00af00\">32</span>)                  │           <span style=\"color: #00af00; text-decoration-color: #00af00\">1,088</span> │\n",
              "├──────────────────────────────────────┼─────────────────────────────┼─────────────────┤\n",
              "│ dense_2 (<span style=\"color: #0087ff; text-decoration-color: #0087ff\">Dense</span>)                      │ (<span style=\"color: #00d7ff; text-decoration-color: #00d7ff\">None</span>, <span style=\"color: #00af00; text-decoration-color: #00af00\">1</span>)                   │              <span style=\"color: #00af00; text-decoration-color: #00af00\">33</span> │\n",
              "└──────────────────────────────────────┴─────────────────────────────┴─────────────────┘\n",
              "</pre>\n"
            ]
          },
          "metadata": {}
        },
        {
          "output_type": "display_data",
          "data": {
            "text/plain": [
              "\u001b[1m Total params: \u001b[0m\u001b[38;5;34m1,121\u001b[0m (4.38 KB)\n"
            ],
            "text/html": [
              "<pre style=\"white-space:pre;overflow-x:auto;line-height:normal;font-family:Menlo,'DejaVu Sans Mono',consolas,'Courier New',monospace\"><span style=\"font-weight: bold\"> Total params: </span><span style=\"color: #00af00; text-decoration-color: #00af00\">1,121</span> (4.38 KB)\n",
              "</pre>\n"
            ]
          },
          "metadata": {}
        },
        {
          "output_type": "display_data",
          "data": {
            "text/plain": [
              "\u001b[1m Trainable params: \u001b[0m\u001b[38;5;34m1,121\u001b[0m (4.38 KB)\n"
            ],
            "text/html": [
              "<pre style=\"white-space:pre;overflow-x:auto;line-height:normal;font-family:Menlo,'DejaVu Sans Mono',consolas,'Courier New',monospace\"><span style=\"font-weight: bold\"> Trainable params: </span><span style=\"color: #00af00; text-decoration-color: #00af00\">1,121</span> (4.38 KB)\n",
              "</pre>\n"
            ]
          },
          "metadata": {}
        },
        {
          "output_type": "display_data",
          "data": {
            "text/plain": [
              "\u001b[1m Non-trainable params: \u001b[0m\u001b[38;5;34m0\u001b[0m (0.00 B)\n"
            ],
            "text/html": [
              "<pre style=\"white-space:pre;overflow-x:auto;line-height:normal;font-family:Menlo,'DejaVu Sans Mono',consolas,'Courier New',monospace\"><span style=\"font-weight: bold\"> Non-trainable params: </span><span style=\"color: #00af00; text-decoration-color: #00af00\">0</span> (0.00 B)\n",
              "</pre>\n"
            ]
          },
          "metadata": {}
        }
      ]
    },
    {
      "cell_type": "code",
      "source": [
        "model.compile(loss='binary_crossentropy', optimizer='adam', metrics = ['accuracy'])\n",
        "model.fit(X_train, y_train, epochs=15, validation_data=(X_test, y_test))"
      ],
      "metadata": {
        "colab": {
          "base_uri": "https://localhost:8080/"
        },
        "id": "ci0YU1mr7hEY",
        "outputId": "cd7b2a80-ac9e-4700-bff6-897d60b0c622"
      },
      "execution_count": 67,
      "outputs": [
        {
          "output_type": "stream",
          "name": "stdout",
          "text": [
            "Epoch 1/15\n",
            "\u001b[1m782/782\u001b[0m \u001b[32m━━━━━━━━━━━━━━━━━━━━\u001b[0m\u001b[37m\u001b[0m \u001b[1m10s\u001b[0m 11ms/step - accuracy: 0.4944 - loss: 0.6934 - val_accuracy: 0.5000 - val_loss: 0.6931\n",
            "Epoch 2/15\n",
            "\u001b[1m782/782\u001b[0m \u001b[32m━━━━━━━━━━━━━━━━━━━━\u001b[0m\u001b[37m\u001b[0m \u001b[1m9s\u001b[0m 10ms/step - accuracy: 0.4926 - loss: 0.6932 - val_accuracy: 0.5000 - val_loss: 0.6931\n",
            "Epoch 3/15\n",
            "\u001b[1m782/782\u001b[0m \u001b[32m━━━━━━━━━━━━━━━━━━━━\u001b[0m\u001b[37m\u001b[0m \u001b[1m10s\u001b[0m 10ms/step - accuracy: 0.5031 - loss: 0.6932 - val_accuracy: 0.5000 - val_loss: 0.6931\n",
            "Epoch 4/15\n",
            "\u001b[1m782/782\u001b[0m \u001b[32m━━━━━━━━━━━━━━━━━━━━\u001b[0m\u001b[37m\u001b[0m \u001b[1m11s\u001b[0m 11ms/step - accuracy: 0.4966 - loss: 0.6932 - val_accuracy: 0.5000 - val_loss: 0.6932\n",
            "Epoch 5/15\n",
            "\u001b[1m782/782\u001b[0m \u001b[32m━━━━━━━━━━━━━━━━━━━━\u001b[0m\u001b[37m\u001b[0m \u001b[1m11s\u001b[0m 12ms/step - accuracy: 0.4970 - loss: 0.6932 - val_accuracy: 0.5000 - val_loss: 0.6931\n",
            "Epoch 6/15\n",
            "\u001b[1m782/782\u001b[0m \u001b[32m━━━━━━━━━━━━━━━━━━━━\u001b[0m\u001b[37m\u001b[0m \u001b[1m9s\u001b[0m 11ms/step - accuracy: 0.5024 - loss: 0.6932 - val_accuracy: 0.5000 - val_loss: 0.6931\n",
            "Epoch 7/15\n",
            "\u001b[1m782/782\u001b[0m \u001b[32m━━━━━━━━━━━━━━━━━━━━\u001b[0m\u001b[37m\u001b[0m \u001b[1m8s\u001b[0m 10ms/step - accuracy: 0.4988 - loss: 0.6932 - val_accuracy: 0.5000 - val_loss: 0.6931\n",
            "Epoch 8/15\n",
            "\u001b[1m782/782\u001b[0m \u001b[32m━━━━━━━━━━━━━━━━━━━━\u001b[0m\u001b[37m\u001b[0m \u001b[1m9s\u001b[0m 12ms/step - accuracy: 0.4960 - loss: 0.6932 - val_accuracy: 0.5000 - val_loss: 0.6932\n",
            "Epoch 9/15\n",
            "\u001b[1m782/782\u001b[0m \u001b[32m━━━━━━━━━━━━━━━━━━━━\u001b[0m\u001b[37m\u001b[0m \u001b[1m10s\u001b[0m 11ms/step - accuracy: 0.4930 - loss: 0.6933 - val_accuracy: 0.5000 - val_loss: 0.6931\n",
            "Epoch 10/15\n",
            "\u001b[1m782/782\u001b[0m \u001b[32m━━━━━━━━━━━━━━━━━━━━\u001b[0m\u001b[37m\u001b[0m \u001b[1m8s\u001b[0m 10ms/step - accuracy: 0.5021 - loss: 0.6932 - val_accuracy: 0.5000 - val_loss: 0.6932\n",
            "Epoch 11/15\n",
            "\u001b[1m782/782\u001b[0m \u001b[32m━━━━━━━━━━━━━━━━━━━━\u001b[0m\u001b[37m\u001b[0m \u001b[1m11s\u001b[0m 11ms/step - accuracy: 0.4995 - loss: 0.6932 - val_accuracy: 0.5000 - val_loss: 0.6932\n",
            "Epoch 12/15\n",
            "\u001b[1m782/782\u001b[0m \u001b[32m━━━━━━━━━━━━━━━━━━━━\u001b[0m\u001b[37m\u001b[0m \u001b[1m9s\u001b[0m 11ms/step - accuracy: 0.4972 - loss: 0.6932 - val_accuracy: 0.5000 - val_loss: 0.6931\n",
            "Epoch 13/15\n",
            "\u001b[1m782/782\u001b[0m \u001b[32m━━━━━━━━━━━━━━━━━━━━\u001b[0m\u001b[37m\u001b[0m \u001b[1m8s\u001b[0m 10ms/step - accuracy: 0.4991 - loss: 0.6937 - val_accuracy: 0.5000 - val_loss: 0.6935\n",
            "Epoch 14/15\n",
            "\u001b[1m782/782\u001b[0m \u001b[32m━━━━━━━━━━━━━━━━━━━━\u001b[0m\u001b[37m\u001b[0m \u001b[1m11s\u001b[0m 11ms/step - accuracy: 0.5052 - loss: 0.6941 - val_accuracy: 0.5000 - val_loss: 0.6931\n",
            "Epoch 15/15\n",
            "\u001b[1m782/782\u001b[0m \u001b[32m━━━━━━━━━━━━━━━━━━━━\u001b[0m\u001b[37m\u001b[0m \u001b[1m9s\u001b[0m 11ms/step - accuracy: 0.4988 - loss: 0.6936 - val_accuracy: 0.5000 - val_loss: 0.6931\n"
          ]
        },
        {
          "output_type": "execute_result",
          "data": {
            "text/plain": [
              "<keras.src.callbacks.history.History at 0x7e7196e90d60>"
            ]
          },
          "metadata": {},
          "execution_count": 67
        }
      ]
    },
    {
      "cell_type": "code",
      "source": [],
      "metadata": {
        "id": "a6In0zETBHfp"
      },
      "execution_count": null,
      "outputs": []
    }
  ]
}