{
  "nbformat": 4,
  "nbformat_minor": 0,
  "metadata": {
    "colab": {
      "provenance": [],
      "gpuType": "T4",
      "authorship_tag": "ABX9TyOyECpkNt4UbjKc6RU4dozd",
      "include_colab_link": true
    },
    "kernelspec": {
      "name": "python3",
      "display_name": "Python 3"
    },
    "language_info": {
      "name": "python"
    },
    "accelerator": "GPU"
  },
  "cells": [
    {
      "cell_type": "markdown",
      "metadata": {
        "id": "view-in-github",
        "colab_type": "text"
      },
      "source": [
        "<a href=\"https://colab.research.google.com/github/ravindrakush11/Recurrent-Neural-Network/blob/main/Sentiment_analysis_SimpleRNN.ipynb\" target=\"_parent\"><img src=\"https://colab.research.google.com/assets/colab-badge.svg\" alt=\"Open In Colab\"/></a>"
      ]
    },
    {
      "cell_type": "code",
      "source": [
        "!pip install tensorflow -q"
      ],
      "metadata": {
        "id": "Vil31pY4CY9J"
      },
      "execution_count": 1,
      "outputs": []
    },
    {
      "cell_type": "code",
      "execution_count": 2,
      "metadata": {
        "id": "cosxcbOHB6Ql"
      },
      "outputs": [],
      "source": [
        "docs = [\n",
        "    'rohit rohit',\n",
        "    'biden biden',\n",
        "    'bharat bharat',\n",
        "    'jai hind',\n",
        "    'hello world',\n",
        "    'spiderman', 'black panther',\n",
        "    'superman', 'wonder woman',\n",
        "    'keep going', 'stay positive',\n",
        "    'optimistic', 'pessimistic',\n",
        "    'good vibes', 'bad energy',\n",
        "    'success', 'failure',\n",
        "    'challenges', 'opportunities',\n",
        "    'victory', 'defeat',\n",
        "    'vande mataram',\n",
        "    'virat virat',\n",
        "    'messi messi',\n",
        "    'ronaldo ronaldo',\n",
        "    'india will rise',\n",
        "    'peace and love',\n",
        "    'stronger together',\n",
        "    'jai jawan jai kisan',\n",
        "    'may the force be with you',\n",
        "    'wakanda forever',\n",
        "    'unity in diversity',\n",
        "    'keep pushing',\n",
        "    'never give up',\n",
        "    'rise and shine',\n",
        "    'chak de india',\n",
        "    'unity for india'\n",
        "]"
      ]
    },
    {
      "cell_type": "code",
      "source": [
        "from tensorflow.keras.preprocessing.text import Tokenizer\n",
        "tokenizer = Tokenizer()"
      ],
      "metadata": {
        "id": "kXyd9WmCCJZ_"
      },
      "execution_count": 3,
      "outputs": []
    },
    {
      "cell_type": "code",
      "source": [
        "tokenizer.fit_on_texts(docs)"
      ],
      "metadata": {
        "id": "4v7CbjmwCl8l"
      },
      "execution_count": 4,
      "outputs": []
    },
    {
      "cell_type": "code",
      "source": [
        "len(tokenizer.word_index)"
      ],
      "metadata": {
        "colab": {
          "base_uri": "https://localhost:8080/"
        },
        "id": "0hKGjB8FCqQ6",
        "outputId": "eedc0ccc-2357-4a58-f649-1e16c184cc39"
      },
      "execution_count": 5,
      "outputs": [
        {
          "output_type": "execute_result",
          "data": {
            "text/plain": [
              "63"
            ]
          },
          "metadata": {},
          "execution_count": 5
        }
      ]
    },
    {
      "cell_type": "code",
      "source": [
        "sequences = tokenizer.texts_to_sequences(docs)\n",
        "sequences"
      ],
      "metadata": {
        "colab": {
          "base_uri": "https://localhost:8080/"
        },
        "id": "Gp4LWb0vCvE4",
        "outputId": "8278a80f-038b-4ebc-f18d-beb991e9e59a"
      },
      "execution_count": 6,
      "outputs": [
        {
          "output_type": "execute_result",
          "data": {
            "text/plain": [
              "[[3, 3],\n",
              " [4, 4],\n",
              " [5, 5],\n",
              " [1, 13],\n",
              " [14, 15],\n",
              " [16],\n",
              " [17, 18],\n",
              " [19],\n",
              " [20, 21],\n",
              " [6, 22],\n",
              " [23, 24],\n",
              " [25],\n",
              " [26],\n",
              " [27, 28],\n",
              " [29, 30],\n",
              " [31],\n",
              " [32],\n",
              " [33],\n",
              " [34],\n",
              " [35],\n",
              " [36],\n",
              " [37, 38],\n",
              " [7, 7],\n",
              " [8, 8],\n",
              " [9, 9],\n",
              " [2, 39, 10],\n",
              " [40, 11, 41],\n",
              " [42, 43],\n",
              " [1, 44, 1, 45],\n",
              " [46, 47, 48, 49, 50, 51],\n",
              " [52, 53],\n",
              " [12, 54, 55],\n",
              " [6, 56],\n",
              " [57, 58, 59],\n",
              " [10, 11, 60],\n",
              " [61, 62, 2],\n",
              " [12, 63, 2]]"
            ]
          },
          "metadata": {},
          "execution_count": 6
        }
      ]
    },
    {
      "cell_type": "code",
      "source": [
        "from tensorflow.keras.preprocessing.sequence import pad_sequences\n",
        "sequences = pad_sequences(sequences, padding='post')\n",
        "sequences"
      ],
      "metadata": {
        "colab": {
          "base_uri": "https://localhost:8080/"
        },
        "id": "odMcEEWQC3w8",
        "outputId": "239504f2-25ec-48ef-efab-9973faea4768"
      },
      "execution_count": 7,
      "outputs": [
        {
          "output_type": "execute_result",
          "data": {
            "text/plain": [
              "array([[ 3,  3,  0,  0,  0,  0],\n",
              "       [ 4,  4,  0,  0,  0,  0],\n",
              "       [ 5,  5,  0,  0,  0,  0],\n",
              "       [ 1, 13,  0,  0,  0,  0],\n",
              "       [14, 15,  0,  0,  0,  0],\n",
              "       [16,  0,  0,  0,  0,  0],\n",
              "       [17, 18,  0,  0,  0,  0],\n",
              "       [19,  0,  0,  0,  0,  0],\n",
              "       [20, 21,  0,  0,  0,  0],\n",
              "       [ 6, 22,  0,  0,  0,  0],\n",
              "       [23, 24,  0,  0,  0,  0],\n",
              "       [25,  0,  0,  0,  0,  0],\n",
              "       [26,  0,  0,  0,  0,  0],\n",
              "       [27, 28,  0,  0,  0,  0],\n",
              "       [29, 30,  0,  0,  0,  0],\n",
              "       [31,  0,  0,  0,  0,  0],\n",
              "       [32,  0,  0,  0,  0,  0],\n",
              "       [33,  0,  0,  0,  0,  0],\n",
              "       [34,  0,  0,  0,  0,  0],\n",
              "       [35,  0,  0,  0,  0,  0],\n",
              "       [36,  0,  0,  0,  0,  0],\n",
              "       [37, 38,  0,  0,  0,  0],\n",
              "       [ 7,  7,  0,  0,  0,  0],\n",
              "       [ 8,  8,  0,  0,  0,  0],\n",
              "       [ 9,  9,  0,  0,  0,  0],\n",
              "       [ 2, 39, 10,  0,  0,  0],\n",
              "       [40, 11, 41,  0,  0,  0],\n",
              "       [42, 43,  0,  0,  0,  0],\n",
              "       [ 1, 44,  1, 45,  0,  0],\n",
              "       [46, 47, 48, 49, 50, 51],\n",
              "       [52, 53,  0,  0,  0,  0],\n",
              "       [12, 54, 55,  0,  0,  0],\n",
              "       [ 6, 56,  0,  0,  0,  0],\n",
              "       [57, 58, 59,  0,  0,  0],\n",
              "       [10, 11, 60,  0,  0,  0],\n",
              "       [61, 62,  2,  0,  0,  0],\n",
              "       [12, 63,  2,  0,  0,  0]], dtype=int32)"
            ]
          },
          "metadata": {},
          "execution_count": 7
        }
      ]
    },
    {
      "cell_type": "code",
      "source": [
        "from tensorflow.keras.models import Sequential\n",
        "from tensorflow.keras.layers import Embedding\n",
        "\n",
        "model = Sequential()\n",
        "model.add(Embedding(17, output_dim=2, input_length=5))\n",
        "\n",
        "model.summary()"
      ],
      "metadata": {
        "colab": {
          "base_uri": "https://localhost:8080/",
          "height": 196
        },
        "id": "SA-Zg9zWDHTZ",
        "outputId": "3dfd051d-c8a2-4f83-b6ff-4c4859e74177"
      },
      "execution_count": 8,
      "outputs": [
        {
          "output_type": "stream",
          "name": "stderr",
          "text": [
            "/usr/local/lib/python3.10/dist-packages/keras/src/layers/core/embedding.py:90: UserWarning: Argument `input_length` is deprecated. Just remove it.\n",
            "  warnings.warn(\n"
          ]
        },
        {
          "output_type": "display_data",
          "data": {
            "text/plain": [
              "\u001b[1mModel: \"sequential\"\u001b[0m\n"
            ],
            "text/html": [
              "<pre style=\"white-space:pre;overflow-x:auto;line-height:normal;font-family:Menlo,'DejaVu Sans Mono',consolas,'Courier New',monospace\"><span style=\"font-weight: bold\">Model: \"sequential\"</span>\n",
              "</pre>\n"
            ]
          },
          "metadata": {}
        },
        {
          "output_type": "display_data",
          "data": {
            "text/plain": [
              "┏━━━━━━━━━━━━━━━━━━━━━━━━━━━━━━━━━━━━━━┳━━━━━━━━━━━━━━━━━━━━━━━━━━━━━┳━━━━━━━━━━━━━━━━━┓\n",
              "┃\u001b[1m \u001b[0m\u001b[1mLayer (type)                        \u001b[0m\u001b[1m \u001b[0m┃\u001b[1m \u001b[0m\u001b[1mOutput Shape               \u001b[0m\u001b[1m \u001b[0m┃\u001b[1m \u001b[0m\u001b[1m        Param #\u001b[0m\u001b[1m \u001b[0m┃\n",
              "┡━━━━━━━━━━━━━━━━━━━━━━━━━━━━━━━━━━━━━━╇━━━━━━━━━━━━━━━━━━━━━━━━━━━━━╇━━━━━━━━━━━━━━━━━┩\n",
              "│ embedding (\u001b[38;5;33mEmbedding\u001b[0m)                │ ?                           │     \u001b[38;5;34m0\u001b[0m (unbuilt) │\n",
              "└──────────────────────────────────────┴─────────────────────────────┴─────────────────┘\n"
            ],
            "text/html": [
              "<pre style=\"white-space:pre;overflow-x:auto;line-height:normal;font-family:Menlo,'DejaVu Sans Mono',consolas,'Courier New',monospace\">┏━━━━━━━━━━━━━━━━━━━━━━━━━━━━━━━━━━━━━━┳━━━━━━━━━━━━━━━━━━━━━━━━━━━━━┳━━━━━━━━━━━━━━━━━┓\n",
              "┃<span style=\"font-weight: bold\"> Layer (type)                         </span>┃<span style=\"font-weight: bold\"> Output Shape                </span>┃<span style=\"font-weight: bold\">         Param # </span>┃\n",
              "┡━━━━━━━━━━━━━━━━━━━━━━━━━━━━━━━━━━━━━━╇━━━━━━━━━━━━━━━━━━━━━━━━━━━━━╇━━━━━━━━━━━━━━━━━┩\n",
              "│ embedding (<span style=\"color: #0087ff; text-decoration-color: #0087ff\">Embedding</span>)                │ ?                           │     <span style=\"color: #00af00; text-decoration-color: #00af00\">0</span> (unbuilt) │\n",
              "└──────────────────────────────────────┴─────────────────────────────┴─────────────────┘\n",
              "</pre>\n"
            ]
          },
          "metadata": {}
        },
        {
          "output_type": "display_data",
          "data": {
            "text/plain": [
              "\u001b[1m Total params: \u001b[0m\u001b[38;5;34m0\u001b[0m (0.00 B)\n"
            ],
            "text/html": [
              "<pre style=\"white-space:pre;overflow-x:auto;line-height:normal;font-family:Menlo,'DejaVu Sans Mono',consolas,'Courier New',monospace\"><span style=\"font-weight: bold\"> Total params: </span><span style=\"color: #00af00; text-decoration-color: #00af00\">0</span> (0.00 B)\n",
              "</pre>\n"
            ]
          },
          "metadata": {}
        },
        {
          "output_type": "display_data",
          "data": {
            "text/plain": [
              "\u001b[1m Trainable params: \u001b[0m\u001b[38;5;34m0\u001b[0m (0.00 B)\n"
            ],
            "text/html": [
              "<pre style=\"white-space:pre;overflow-x:auto;line-height:normal;font-family:Menlo,'DejaVu Sans Mono',consolas,'Courier New',monospace\"><span style=\"font-weight: bold\"> Trainable params: </span><span style=\"color: #00af00; text-decoration-color: #00af00\">0</span> (0.00 B)\n",
              "</pre>\n"
            ]
          },
          "metadata": {}
        },
        {
          "output_type": "display_data",
          "data": {
            "text/plain": [
              "\u001b[1m Non-trainable params: \u001b[0m\u001b[38;5;34m0\u001b[0m (0.00 B)\n"
            ],
            "text/html": [
              "<pre style=\"white-space:pre;overflow-x:auto;line-height:normal;font-family:Menlo,'DejaVu Sans Mono',consolas,'Courier New',monospace\"><span style=\"font-weight: bold\"> Non-trainable params: </span><span style=\"color: #00af00; text-decoration-color: #00af00\">0</span> (0.00 B)\n",
              "</pre>\n"
            ]
          },
          "metadata": {}
        }
      ]
    },
    {
      "cell_type": "code",
      "source": [
        "model.compile('adam', 'accuracy')"
      ],
      "metadata": {
        "id": "Ami3P92WD5DG"
      },
      "execution_count": 9,
      "outputs": []
    },
    {
      "cell_type": "code",
      "source": [
        "pred = model.predict(sequences)\n",
        "print(pred)"
      ],
      "metadata": {
        "colab": {
          "base_uri": "https://localhost:8080/"
        },
        "id": "Cw6xCmaiD-P7",
        "outputId": "d7554248-4d37-4541-fdda-17e82cdb1756"
      },
      "execution_count": 10,
      "outputs": [
        {
          "output_type": "stream",
          "name": "stdout",
          "text": [
            "\u001b[1m2/2\u001b[0m \u001b[32m━━━━━━━━━━━━━━━━━━━━\u001b[0m\u001b[37m\u001b[0m \u001b[1m1s\u001b[0m 96ms/step\n",
            "[[[ 0.03150587  0.04899379]\n",
            "  [ 0.03150587  0.04899379]\n",
            "  [-0.04695041  0.02987875]\n",
            "  [-0.04695041  0.02987875]\n",
            "  [-0.04695041  0.02987875]\n",
            "  [-0.04695041  0.02987875]]\n",
            "\n",
            " [[-0.00466806  0.03039211]\n",
            "  [-0.00466806  0.03039211]\n",
            "  [-0.04695041  0.02987875]\n",
            "  [-0.04695041  0.02987875]\n",
            "  [-0.04695041  0.02987875]\n",
            "  [-0.04695041  0.02987875]]\n",
            "\n",
            " [[ 0.00906752  0.02491394]\n",
            "  [ 0.00906752  0.02491394]\n",
            "  [-0.04695041  0.02987875]\n",
            "  [-0.04695041  0.02987875]\n",
            "  [-0.04695041  0.02987875]\n",
            "  [-0.04695041  0.02987875]]\n",
            "\n",
            " [[ 0.03580679 -0.00585099]\n",
            "  [ 0.00576635 -0.04641546]\n",
            "  [-0.04695041  0.02987875]\n",
            "  [-0.04695041  0.02987875]\n",
            "  [-0.04695041  0.02987875]\n",
            "  [-0.04695041  0.02987875]]\n",
            "\n",
            " [[ 0.0065463  -0.04114013]\n",
            "  [ 0.00717796 -0.04441599]\n",
            "  [-0.04695041  0.02987875]\n",
            "  [-0.04695041  0.02987875]\n",
            "  [-0.04695041  0.02987875]\n",
            "  [-0.04695041  0.02987875]]\n",
            "\n",
            " [[-0.00471885 -0.04206849]\n",
            "  [-0.04695041  0.02987875]\n",
            "  [-0.04695041  0.02987875]\n",
            "  [-0.04695041  0.02987875]\n",
            "  [-0.04695041  0.02987875]\n",
            "  [-0.04695041  0.02987875]]\n",
            "\n",
            " [[-0.00471885 -0.04206849]\n",
            "  [-0.00471885 -0.04206849]\n",
            "  [-0.04695041  0.02987875]\n",
            "  [-0.04695041  0.02987875]\n",
            "  [-0.04695041  0.02987875]\n",
            "  [-0.04695041  0.02987875]]\n",
            "\n",
            " [[-0.00471885 -0.04206849]\n",
            "  [-0.04695041  0.02987875]\n",
            "  [-0.04695041  0.02987875]\n",
            "  [-0.04695041  0.02987875]\n",
            "  [-0.04695041  0.02987875]\n",
            "  [-0.04695041  0.02987875]]\n",
            "\n",
            " [[-0.00471885 -0.04206849]\n",
            "  [-0.00471885 -0.04206849]\n",
            "  [-0.04695041  0.02987875]\n",
            "  [-0.04695041  0.02987875]\n",
            "  [-0.04695041  0.02987875]\n",
            "  [-0.04695041  0.02987875]]\n",
            "\n",
            " [[ 0.04036493 -0.03444083]\n",
            "  [-0.00471885 -0.04206849]\n",
            "  [-0.04695041  0.02987875]\n",
            "  [-0.04695041  0.02987875]\n",
            "  [-0.04695041  0.02987875]\n",
            "  [-0.04695041  0.02987875]]\n",
            "\n",
            " [[-0.00471885 -0.04206849]\n",
            "  [-0.00471885 -0.04206849]\n",
            "  [-0.04695041  0.02987875]\n",
            "  [-0.04695041  0.02987875]\n",
            "  [-0.04695041  0.02987875]\n",
            "  [-0.04695041  0.02987875]]\n",
            "\n",
            " [[-0.00471885 -0.04206849]\n",
            "  [-0.04695041  0.02987875]\n",
            "  [-0.04695041  0.02987875]\n",
            "  [-0.04695041  0.02987875]\n",
            "  [-0.04695041  0.02987875]\n",
            "  [-0.04695041  0.02987875]]\n",
            "\n",
            " [[-0.00471885 -0.04206849]\n",
            "  [-0.04695041  0.02987875]\n",
            "  [-0.04695041  0.02987875]\n",
            "  [-0.04695041  0.02987875]\n",
            "  [-0.04695041  0.02987875]\n",
            "  [-0.04695041  0.02987875]]\n",
            "\n",
            " [[-0.00471885 -0.04206849]\n",
            "  [-0.00471885 -0.04206849]\n",
            "  [-0.04695041  0.02987875]\n",
            "  [-0.04695041  0.02987875]\n",
            "  [-0.04695041  0.02987875]\n",
            "  [-0.04695041  0.02987875]]\n",
            "\n",
            " [[-0.00471885 -0.04206849]\n",
            "  [-0.00471885 -0.04206849]\n",
            "  [-0.04695041  0.02987875]\n",
            "  [-0.04695041  0.02987875]\n",
            "  [-0.04695041  0.02987875]\n",
            "  [-0.04695041  0.02987875]]\n",
            "\n",
            " [[-0.00471885 -0.04206849]\n",
            "  [-0.04695041  0.02987875]\n",
            "  [-0.04695041  0.02987875]\n",
            "  [-0.04695041  0.02987875]\n",
            "  [-0.04695041  0.02987875]\n",
            "  [-0.04695041  0.02987875]]\n",
            "\n",
            " [[-0.00471885 -0.04206849]\n",
            "  [-0.04695041  0.02987875]\n",
            "  [-0.04695041  0.02987875]\n",
            "  [-0.04695041  0.02987875]\n",
            "  [-0.04695041  0.02987875]\n",
            "  [-0.04695041  0.02987875]]\n",
            "\n",
            " [[-0.00471885 -0.04206849]\n",
            "  [-0.04695041  0.02987875]\n",
            "  [-0.04695041  0.02987875]\n",
            "  [-0.04695041  0.02987875]\n",
            "  [-0.04695041  0.02987875]\n",
            "  [-0.04695041  0.02987875]]\n",
            "\n",
            " [[-0.00471885 -0.04206849]\n",
            "  [-0.04695041  0.02987875]\n",
            "  [-0.04695041  0.02987875]\n",
            "  [-0.04695041  0.02987875]\n",
            "  [-0.04695041  0.02987875]\n",
            "  [-0.04695041  0.02987875]]\n",
            "\n",
            " [[-0.00471885 -0.04206849]\n",
            "  [-0.04695041  0.02987875]\n",
            "  [-0.04695041  0.02987875]\n",
            "  [-0.04695041  0.02987875]\n",
            "  [-0.04695041  0.02987875]\n",
            "  [-0.04695041  0.02987875]]\n",
            "\n",
            " [[-0.00471885 -0.04206849]\n",
            "  [-0.04695041  0.02987875]\n",
            "  [-0.04695041  0.02987875]\n",
            "  [-0.04695041  0.02987875]\n",
            "  [-0.04695041  0.02987875]\n",
            "  [-0.04695041  0.02987875]]\n",
            "\n",
            " [[-0.00471885 -0.04206849]\n",
            "  [-0.00471885 -0.04206849]\n",
            "  [-0.04695041  0.02987875]\n",
            "  [-0.04695041  0.02987875]\n",
            "  [-0.04695041  0.02987875]\n",
            "  [-0.04695041  0.02987875]]\n",
            "\n",
            " [[ 0.04893309  0.01948773]\n",
            "  [ 0.04893309  0.01948773]\n",
            "  [-0.04695041  0.02987875]\n",
            "  [-0.04695041  0.02987875]\n",
            "  [-0.04695041  0.02987875]\n",
            "  [-0.04695041  0.02987875]]\n",
            "\n",
            " [[-0.02315805 -0.04730526]\n",
            "  [-0.02315805 -0.04730526]\n",
            "  [-0.04695041  0.02987875]\n",
            "  [-0.04695041  0.02987875]\n",
            "  [-0.04695041  0.02987875]\n",
            "  [-0.04695041  0.02987875]]\n",
            "\n",
            " [[ 0.00172542 -0.0338608 ]\n",
            "  [ 0.00172542 -0.0338608 ]\n",
            "  [-0.04695041  0.02987875]\n",
            "  [-0.04695041  0.02987875]\n",
            "  [-0.04695041  0.02987875]\n",
            "  [-0.04695041  0.02987875]]\n",
            "\n",
            " [[ 0.02557958  0.03145318]\n",
            "  [-0.00471885 -0.04206849]\n",
            "  [ 0.03315378 -0.03662881]\n",
            "  [-0.04695041  0.02987875]\n",
            "  [-0.04695041  0.02987875]\n",
            "  [-0.04695041  0.02987875]]\n",
            "\n",
            " [[-0.00471885 -0.04206849]\n",
            "  [ 0.04173807 -0.00325977]\n",
            "  [-0.00471885 -0.04206849]\n",
            "  [-0.04695041  0.02987875]\n",
            "  [-0.04695041  0.02987875]\n",
            "  [-0.04695041  0.02987875]]\n",
            "\n",
            " [[-0.00471885 -0.04206849]\n",
            "  [-0.00471885 -0.04206849]\n",
            "  [-0.04695041  0.02987875]\n",
            "  [-0.04695041  0.02987875]\n",
            "  [-0.04695041  0.02987875]\n",
            "  [-0.04695041  0.02987875]]\n",
            "\n",
            " [[ 0.03580679 -0.00585099]\n",
            "  [-0.00471885 -0.04206849]\n",
            "  [ 0.03580679 -0.00585099]\n",
            "  [-0.00471885 -0.04206849]\n",
            "  [-0.04695041  0.02987875]\n",
            "  [-0.04695041  0.02987875]]\n",
            "\n",
            " [[-0.00471885 -0.04206849]\n",
            "  [-0.00471885 -0.04206849]\n",
            "  [-0.00471885 -0.04206849]\n",
            "  [-0.00471885 -0.04206849]\n",
            "  [-0.00471885 -0.04206849]\n",
            "  [-0.00471885 -0.04206849]]\n",
            "\n",
            " [[-0.00471885 -0.04206849]\n",
            "  [-0.00471885 -0.04206849]\n",
            "  [-0.04695041  0.02987875]\n",
            "  [-0.04695041  0.02987875]\n",
            "  [-0.04695041  0.02987875]\n",
            "  [-0.04695041  0.02987875]]\n",
            "\n",
            " [[-0.03873098 -0.02348682]\n",
            "  [-0.00471885 -0.04206849]\n",
            "  [-0.00471885 -0.04206849]\n",
            "  [-0.04695041  0.02987875]\n",
            "  [-0.04695041  0.02987875]\n",
            "  [-0.04695041  0.02987875]]\n",
            "\n",
            " [[ 0.04036493 -0.03444083]\n",
            "  [-0.00471885 -0.04206849]\n",
            "  [-0.04695041  0.02987875]\n",
            "  [-0.04695041  0.02987875]\n",
            "  [-0.04695041  0.02987875]\n",
            "  [-0.04695041  0.02987875]]\n",
            "\n",
            " [[-0.00471885 -0.04206849]\n",
            "  [-0.00471885 -0.04206849]\n",
            "  [-0.00471885 -0.04206849]\n",
            "  [-0.04695041  0.02987875]\n",
            "  [-0.04695041  0.02987875]\n",
            "  [-0.04695041  0.02987875]]\n",
            "\n",
            " [[ 0.03315378 -0.03662881]\n",
            "  [ 0.04173807 -0.00325977]\n",
            "  [-0.00471885 -0.04206849]\n",
            "  [-0.04695041  0.02987875]\n",
            "  [-0.04695041  0.02987875]\n",
            "  [-0.04695041  0.02987875]]\n",
            "\n",
            " [[-0.00471885 -0.04206849]\n",
            "  [-0.00471885 -0.04206849]\n",
            "  [ 0.02557958  0.03145318]\n",
            "  [-0.04695041  0.02987875]\n",
            "  [-0.04695041  0.02987875]\n",
            "  [-0.04695041  0.02987875]]\n",
            "\n",
            " [[-0.03873098 -0.02348682]\n",
            "  [-0.00471885 -0.04206849]\n",
            "  [ 0.02557958  0.03145318]\n",
            "  [-0.04695041  0.02987875]\n",
            "  [-0.04695041  0.02987875]\n",
            "  [-0.04695041  0.02987875]]]\n"
          ]
        }
      ]
    },
    {
      "cell_type": "code",
      "source": [
        "from keras.datasets import imdb\n",
        "from tensorflow.keras.preprocessing.text import Tokenizer\n",
        "from keras.utils import pad_sequences\n",
        "from tensorflow.keras.models import Sequential\n",
        "from tensorflow.keras.layers import Embedding, SimpleRNN, Dense\n"
      ],
      "metadata": {
        "id": "rTsBBvY6FVhp"
      },
      "execution_count": 12,
      "outputs": []
    },
    {
      "cell_type": "code",
      "source": [
        "(X_train, y_train), (X_test, y_test) = imdb.load_data()"
      ],
      "metadata": {
        "colab": {
          "base_uri": "https://localhost:8080/"
        },
        "id": "N66lWq2GFzPG",
        "outputId": "feaf0136-aad4-41c7-bca8-27a60137977a"
      },
      "execution_count": 13,
      "outputs": [
        {
          "output_type": "stream",
          "name": "stdout",
          "text": [
            "Downloading data from https://storage.googleapis.com/tensorflow/tf-keras-datasets/imdb.npz\n",
            "\u001b[1m17464789/17464789\u001b[0m \u001b[32m━━━━━━━━━━━━━━━━━━━━\u001b[0m\u001b[37m\u001b[0m \u001b[1m0s\u001b[0m 0us/step\n"
          ]
        }
      ]
    },
    {
      "cell_type": "code",
      "source": [
        "X_train = pad_sequences(X_train, padding='post', maxlen=50)\n",
        "X_test = pad_sequences(X_test, padding='post', maxlen=50)"
      ],
      "metadata": {
        "id": "eSVt5-ecF606"
      },
      "execution_count": 14,
      "outputs": []
    },
    {
      "cell_type": "code",
      "source": [
        "X_train.shape"
      ],
      "metadata": {
        "colab": {
          "base_uri": "https://localhost:8080/"
        },
        "id": "TO9Hek5RGI57",
        "outputId": "d7707563-485d-44b6-c1ee-e42b523524ec"
      },
      "execution_count": 15,
      "outputs": [
        {
          "output_type": "execute_result",
          "data": {
            "text/plain": [
              "(25000, 50)"
            ]
          },
          "metadata": {},
          "execution_count": 15
        }
      ]
    },
    {
      "cell_type": "code",
      "source": [
        "model = Sequential()\n",
        "model.add(Embedding(input_dim=10000, output_dim=50))\n",
        "model.add(SimpleRNN(32, return_sequences=False))\n",
        "model.add(Dense(1, activation='sigmoid'))\n",
        "\n",
        "model.summary()"
      ],
      "metadata": {
        "colab": {
          "base_uri": "https://localhost:8080/",
          "height": 225
        },
        "id": "9SCe1f9tGM4z",
        "outputId": "4a1740aa-5fdf-4d6d-ff7e-bc7389e0bd70"
      },
      "execution_count": 19,
      "outputs": [
        {
          "output_type": "display_data",
          "data": {
            "text/plain": [
              "\u001b[1mModel: \"sequential_4\"\u001b[0m\n"
            ],
            "text/html": [
              "<pre style=\"white-space:pre;overflow-x:auto;line-height:normal;font-family:Menlo,'DejaVu Sans Mono',consolas,'Courier New',monospace\"><span style=\"font-weight: bold\">Model: \"sequential_4\"</span>\n",
              "</pre>\n"
            ]
          },
          "metadata": {}
        },
        {
          "output_type": "display_data",
          "data": {
            "text/plain": [
              "┏━━━━━━━━━━━━━━━━━━━━━━━━━━━━━━━━━━━━━━┳━━━━━━━━━━━━━━━━━━━━━━━━━━━━━┳━━━━━━━━━━━━━━━━━┓\n",
              "┃\u001b[1m \u001b[0m\u001b[1mLayer (type)                        \u001b[0m\u001b[1m \u001b[0m┃\u001b[1m \u001b[0m\u001b[1mOutput Shape               \u001b[0m\u001b[1m \u001b[0m┃\u001b[1m \u001b[0m\u001b[1m        Param #\u001b[0m\u001b[1m \u001b[0m┃\n",
              "┡━━━━━━━━━━━━━━━━━━━━━━━━━━━━━━━━━━━━━━╇━━━━━━━━━━━━━━━━━━━━━━━━━━━━━╇━━━━━━━━━━━━━━━━━┩\n",
              "│ embedding_4 (\u001b[38;5;33mEmbedding\u001b[0m)              │ ?                           │     \u001b[38;5;34m0\u001b[0m (unbuilt) │\n",
              "├──────────────────────────────────────┼─────────────────────────────┼─────────────────┤\n",
              "│ simple_rnn (\u001b[38;5;33mSimpleRNN\u001b[0m)               │ ?                           │     \u001b[38;5;34m0\u001b[0m (unbuilt) │\n",
              "├──────────────────────────────────────┼─────────────────────────────┼─────────────────┤\n",
              "│ dense (\u001b[38;5;33mDense\u001b[0m)                        │ ?                           │     \u001b[38;5;34m0\u001b[0m (unbuilt) │\n",
              "└──────────────────────────────────────┴─────────────────────────────┴─────────────────┘\n"
            ],
            "text/html": [
              "<pre style=\"white-space:pre;overflow-x:auto;line-height:normal;font-family:Menlo,'DejaVu Sans Mono',consolas,'Courier New',monospace\">┏━━━━━━━━━━━━━━━━━━━━━━━━━━━━━━━━━━━━━━┳━━━━━━━━━━━━━━━━━━━━━━━━━━━━━┳━━━━━━━━━━━━━━━━━┓\n",
              "┃<span style=\"font-weight: bold\"> Layer (type)                         </span>┃<span style=\"font-weight: bold\"> Output Shape                </span>┃<span style=\"font-weight: bold\">         Param # </span>┃\n",
              "┡━━━━━━━━━━━━━━━━━━━━━━━━━━━━━━━━━━━━━━╇━━━━━━━━━━━━━━━━━━━━━━━━━━━━━╇━━━━━━━━━━━━━━━━━┩\n",
              "│ embedding_4 (<span style=\"color: #0087ff; text-decoration-color: #0087ff\">Embedding</span>)              │ ?                           │     <span style=\"color: #00af00; text-decoration-color: #00af00\">0</span> (unbuilt) │\n",
              "├──────────────────────────────────────┼─────────────────────────────┼─────────────────┤\n",
              "│ simple_rnn (<span style=\"color: #0087ff; text-decoration-color: #0087ff\">SimpleRNN</span>)               │ ?                           │     <span style=\"color: #00af00; text-decoration-color: #00af00\">0</span> (unbuilt) │\n",
              "├──────────────────────────────────────┼─────────────────────────────┼─────────────────┤\n",
              "│ dense (<span style=\"color: #0087ff; text-decoration-color: #0087ff\">Dense</span>)                        │ ?                           │     <span style=\"color: #00af00; text-decoration-color: #00af00\">0</span> (unbuilt) │\n",
              "└──────────────────────────────────────┴─────────────────────────────┴─────────────────┘\n",
              "</pre>\n"
            ]
          },
          "metadata": {}
        },
        {
          "output_type": "display_data",
          "data": {
            "text/plain": [
              "\u001b[1m Total params: \u001b[0m\u001b[38;5;34m0\u001b[0m (0.00 B)\n"
            ],
            "text/html": [
              "<pre style=\"white-space:pre;overflow-x:auto;line-height:normal;font-family:Menlo,'DejaVu Sans Mono',consolas,'Courier New',monospace\"><span style=\"font-weight: bold\"> Total params: </span><span style=\"color: #00af00; text-decoration-color: #00af00\">0</span> (0.00 B)\n",
              "</pre>\n"
            ]
          },
          "metadata": {}
        },
        {
          "output_type": "display_data",
          "data": {
            "text/plain": [
              "\u001b[1m Trainable params: \u001b[0m\u001b[38;5;34m0\u001b[0m (0.00 B)\n"
            ],
            "text/html": [
              "<pre style=\"white-space:pre;overflow-x:auto;line-height:normal;font-family:Menlo,'DejaVu Sans Mono',consolas,'Courier New',monospace\"><span style=\"font-weight: bold\"> Trainable params: </span><span style=\"color: #00af00; text-decoration-color: #00af00\">0</span> (0.00 B)\n",
              "</pre>\n"
            ]
          },
          "metadata": {}
        },
        {
          "output_type": "display_data",
          "data": {
            "text/plain": [
              "\u001b[1m Non-trainable params: \u001b[0m\u001b[38;5;34m0\u001b[0m (0.00 B)\n"
            ],
            "text/html": [
              "<pre style=\"white-space:pre;overflow-x:auto;line-height:normal;font-family:Menlo,'DejaVu Sans Mono',consolas,'Courier New',monospace\"><span style=\"font-weight: bold\"> Non-trainable params: </span><span style=\"color: #00af00; text-decoration-color: #00af00\">0</span> (0.00 B)\n",
              "</pre>\n"
            ]
          },
          "metadata": {}
        }
      ]
    },
    {
      "cell_type": "code",
      "source": [
        "model.compile(optimizer='adam', loss='binary_crossentropy', metrics=['accuracy'])\n",
        "history = model.fit(X_train, y_train, epochs=5, validation_data=(X_test, y_test))"
      ],
      "metadata": {
        "colab": {
          "base_uri": "https://localhost:8080/"
        },
        "id": "pOe1CBqTHe4e",
        "outputId": "9cd0477e-94a4-46f4-e697-8568ed497fad"
      },
      "execution_count": 20,
      "outputs": [
        {
          "output_type": "stream",
          "name": "stdout",
          "text": [
            "Epoch 1/5\n",
            "\u001b[1m782/782\u001b[0m \u001b[32m━━━━━━━━━━━━━━━━━━━━\u001b[0m\u001b[37m\u001b[0m \u001b[1m13s\u001b[0m 13ms/step - accuracy: 0.6596 - loss: 0.5902 - val_accuracy: 0.7820 - val_loss: 0.4648\n",
            "Epoch 2/5\n",
            "\u001b[1m782/782\u001b[0m \u001b[32m━━━━━━━━━━━━━━━━━━━━\u001b[0m\u001b[37m\u001b[0m \u001b[1m7s\u001b[0m 9ms/step - accuracy: 0.8555 - loss: 0.3410 - val_accuracy: 0.7868 - val_loss: 0.4695\n",
            "Epoch 3/5\n",
            "\u001b[1m782/782\u001b[0m \u001b[32m━━━━━━━━━━━━━━━━━━━━\u001b[0m\u001b[37m\u001b[0m \u001b[1m8s\u001b[0m 10ms/step - accuracy: 0.9337 - loss: 0.1803 - val_accuracy: 0.7705 - val_loss: 0.5643\n",
            "Epoch 4/5\n",
            "\u001b[1m782/782\u001b[0m \u001b[32m━━━━━━━━━━━━━━━━━━━━\u001b[0m\u001b[37m\u001b[0m \u001b[1m10s\u001b[0m 10ms/step - accuracy: 0.9831 - loss: 0.0642 - val_accuracy: 0.7440 - val_loss: 0.7916\n",
            "Epoch 5/5\n",
            "\u001b[1m782/782\u001b[0m \u001b[32m━━━━━━━━━━━━━━━━━━━━\u001b[0m\u001b[37m\u001b[0m \u001b[1m7s\u001b[0m 9ms/step - accuracy: 0.9920 - loss: 0.0311 - val_accuracy: 0.7748 - val_loss: 0.9055\n"
          ]
        }
      ]
    }
  ]
}